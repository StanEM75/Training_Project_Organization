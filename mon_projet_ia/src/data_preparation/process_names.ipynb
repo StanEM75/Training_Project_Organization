{
 "cells": [
  {
   "cell_type": "markdown",
   "id": "440f075a",
   "metadata": {},
   "source": [
    "## Imports"
   ]
  },
  {
   "cell_type": "code",
   "execution_count": 24,
   "id": "470f80d5",
   "metadata": {},
   "outputs": [],
   "source": [
    "# Packages\n",
    "import pandas as pd"
   ]
  },
  {
   "cell_type": "code",
   "execution_count": 25,
   "id": "e06ed678",
   "metadata": {},
   "outputs": [],
   "source": [
    "# Load df\n",
    "df = pd.read_csv('../../data/raw/raw_data.csv')"
   ]
  },
  {
   "cell_type": "markdown",
   "id": "62754357",
   "metadata": {},
   "source": [
    "## Process"
   ]
  },
  {
   "cell_type": "code",
   "execution_count": 26,
   "id": "61827972",
   "metadata": {},
   "outputs": [],
   "source": [
    "# Set Index as the index\n",
    "df = df.set_index('Index')"
   ]
  },
  {
   "cell_type": "code",
   "execution_count": 27,
   "id": "df6d976e",
   "metadata": {},
   "outputs": [],
   "source": [
    "# Remove useless spaces from columns names\n",
    "df.columns = df.columns.str.strip()"
   ]
  },
  {
   "cell_type": "code",
   "execution_count": 28,
   "id": "2ad2d13a",
   "metadata": {},
   "outputs": [
    {
     "name": "stdout",
     "output_type": "stream",
     "text": [
      "Index(['Name', 'Value'], dtype='object')\n"
     ]
    }
   ],
   "source": [
    "# Print the columns\n",
    "print(df.columns)"
   ]
  },
  {
   "cell_type": "code",
   "execution_count": 30,
   "id": "648f7ba8",
   "metadata": {},
   "outputs": [],
   "source": [
    "# Sort the dataframe by the Value columns\n",
    "df = df.sort_values(by=['Value'])"
   ]
  },
  {
   "cell_type": "code",
   "execution_count": 31,
   "id": "5e8ae4a5",
   "metadata": {},
   "outputs": [
    {
     "name": "stdout",
     "output_type": "stream",
     "text": [
      "           Name  Value\n",
      "Index                 \n",
      "0          Paul     20\n",
      "1        Thomas     25\n",
      "2          Jano     34\n",
      "3       Fabrice     40\n"
     ]
    }
   ],
   "source": [
    "# Print the final dataframe\n",
    "print(df)"
   ]
  },
  {
   "cell_type": "markdown",
   "id": "fe831705",
   "metadata": {},
   "source": [
    "## Load processed data in the right folder"
   ]
  },
  {
   "cell_type": "code",
   "execution_count": 33,
   "id": "5efc0a38",
   "metadata": {},
   "outputs": [],
   "source": [
    "df.to_csv('../../data/processed/processed_data.csv')"
   ]
  },
  {
   "cell_type": "code",
   "execution_count": null,
   "id": "134f75e9",
   "metadata": {},
   "outputs": [],
   "source": []
  }
 ],
 "metadata": {
  "kernelspec": {
   "display_name": "Python 3",
   "language": "python",
   "name": "python3"
  },
  "language_info": {
   "codemirror_mode": {
    "name": "ipython",
    "version": 3
   },
   "file_extension": ".py",
   "mimetype": "text/x-python",
   "name": "python",
   "nbconvert_exporter": "python",
   "pygments_lexer": "ipython3",
   "version": "3.12.8"
  }
 },
 "nbformat": 4,
 "nbformat_minor": 5
}
