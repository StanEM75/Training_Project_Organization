{
 "cells": [
  {
   "cell_type": "markdown",
   "id": "d469f124",
   "metadata": {},
   "source": [
    "## Handle variables"
   ]
  },
  {
   "cell_type": "markdown",
   "id": "d9d72104",
   "metadata": {},
   "source": [
    "### Create variables, type it and assign a value"
   ]
  },
  {
   "cell_type": "code",
   "execution_count": null,
   "id": "a91688c5",
   "metadata": {},
   "outputs": [
    {
     "name": "stdout",
     "output_type": "stream",
     "text": [
      "I've created an integer and its value is 4.\n",
      "I've created a float and its value is 300.12.\n",
      "I've created a string and its value is Hello world (yes once again).\n",
      "I've created a boolean and its value is True.\n"
     ]
    }
   ],
   "source": [
    "# Create an integer\n",
    "integer : int = 4\n",
    "\n",
    "# Print the integer\n",
    "print(f\"I've created an integer and its value is {integer}.\")\n",
    "\n",
    "# Create a float \n",
    "floating : float = 300.12\n",
    "\n",
    "# Print the float\n",
    "print(f\"I've created a float and its value is {floating}.\")\n",
    "\n",
    "# Create a string\n",
    "string : str = \"Hello world (yes once again)\"\n",
    "\n",
    "# Print the string\n",
    "print(f\"I've created a string and its value is {string}.\")\n",
    "\n",
    "# Create a boolean\n",
    "boolean = True\n",
    "\n",
    "# Print the boolean\n",
    "print(f\"I've created a boolean and its value is {boolean}.\")"
   ]
  },
  {
   "cell_type": "markdown",
   "id": "7901c259",
   "metadata": {},
   "source": [
    "### Concatenate a sentence"
   ]
  },
  {
   "cell_type": "code",
   "execution_count": 49,
   "id": "16bf4763",
   "metadata": {},
   "outputs": [
    {
     "name": "stdout",
     "output_type": "stream",
     "text": [
      "My name is Stan and I'm 29 years old.\n"
     ]
    }
   ],
   "source": [
    "# Variables\n",
    "prenom = \"Stan\"\n",
    "age = 29\n",
    "\n",
    "# Print the sentence\n",
    "print(f\"My name is {prenom} and I'm {age} years old.\")"
   ]
  },
  {
   "cell_type": "markdown",
   "id": "1a6181fd",
   "metadata": {},
   "source": [
    "## Handle loops and conditions"
   ]
  },
  {
   "cell_type": "markdown",
   "id": "0eebdf9b",
   "metadata": {},
   "source": [
    "### Create a condition in a function"
   ]
  },
  {
   "cell_type": "code",
   "execution_count": 50,
   "id": "2a6e41c8",
   "metadata": {},
   "outputs": [
    {
     "name": "stdout",
     "output_type": "stream",
     "text": [
      "Is 15 above 18? False.\n",
      "Is 18 above 18? False.\n",
      "Is 21 above 18? True.\n",
      "Is 20.5 above 18? True.\n",
      "Is 15 above 18? False.\n",
      "Is 18 above 18? False.\n",
      "Is 21 above 18? True.\n",
      "Is 20.5 above 18? True.\n"
     ]
    }
   ],
   "source": [
    "def is_above_18(age : int) -> bool: # Checks if the argument is an integer and sets the result as a Boolean\n",
    "    if age > 18:\n",
    "        return True\n",
    "    elif age <= 18:\n",
    "        return False\n",
    "    else:\n",
    "        return False\n",
    "\n",
    "# Test the function with 15\n",
    "arg1 = 15\n",
    "print(f\"Is {arg1} above 18? {is_above_18(arg1)}.\")\n",
    "\n",
    "# Test the function with 18\n",
    "arg2 = 18\n",
    "print(f\"Is {arg2} above 18? {is_above_18(arg2)}.\")\n",
    "\n",
    "# Test the function with 21\n",
    "arg3 = 21\n",
    "print(f\"Is {arg3} above 18? {is_above_18(arg3)}.\")\n",
    "\n",
    "# Test the function with a float\n",
    "arg4 = 20.5 # No error, the mention int was just for documentation\n",
    "print(f\"Is {arg4} above 18? {is_above_18(arg4)}.\")\n",
    "\n",
    "# Do the same with a loop\n",
    "ListOfArgumentsToTest = [arg1, arg2, arg3, arg4]\n",
    "#print(ListOfArgumentsToTest)\n",
    "\n",
    "for index, argument in enumerate(ListOfArgumentsToTest):\n",
    "    #print(argument)\n",
    "    print(f\"Is {argument} above 18? {is_above_18(argument)}.\")\n",
    "\n",
    "\n"
   ]
  },
  {
   "cell_type": "markdown",
   "id": "39addf34",
   "metadata": {},
   "source": [
    "### Browse a list and print each element"
   ]
  },
  {
   "cell_type": "code",
   "execution_count": null,
   "id": "039c4d0a",
   "metadata": {},
   "outputs": [
    {
     "name": "stdout",
     "output_type": "stream",
     "text": [
      "Wow, I'm so lucky because I had the opportunity to visit Seoul.\n",
      "Wow, I'm so lucky because I had the opportunity to visit New York.\n",
      "Wow, I'm so lucky because I had the opportunity to visit Tokyo.\n",
      "Wow, I'm so lucky because I had the opportunity to visit Hanoi.\n",
      "Wow, I'm so lucky because I had the opportunity to visit Berlin.\n",
      "Wow, I'm so lucky because I had the opportunity to visit Milano.\n",
      "Wow, I'm so lucky because I had the opportunity to visit Lyon.\n",
      "Wow, I'm so lucky because I had the opportunity to visit Hong Kong.\n"
     ]
    }
   ],
   "source": [
    "# Create a list\n",
    "list_of_cities_I_travelled_to : list = ['Seoul', 'New York', 'Tokyo', 'Hanoi', 'Berlin', 'Milano', 'Lyon', 'Hong Kong']\n",
    "#print(ListOfCitiesITravelledTo)\n",
    "\n",
    "# Loop in the list\n",
    "for index, city in enumerate(list_of_cities_I_travelled_to):\n",
    "    # Print each element of the list\n",
    "    print(f\"Wow, I'm so lucky because I had the opportunity to visit {city}.\")"
   ]
  },
  {
   "cell_type": "markdown",
   "id": "57f79e6e",
   "metadata": {},
   "source": [
    "### Print only even numbers"
   ]
  },
  {
   "cell_type": "code",
   "execution_count": 52,
   "id": "3811eb77",
   "metadata": {},
   "outputs": [
    {
     "name": "stdout",
     "output_type": "stream",
     "text": [
      "2\n",
      "4\n",
      "6\n",
      "8\n",
      "10\n"
     ]
    }
   ],
   "source": [
    "# Create a loop on numbers between 0 and 10\n",
    "for number in range(1,11): # Put 10 + 1 to count 10 in the loop\n",
    "    #print(number)\n",
    "    if number % 2 == 0: # Condition to check if the number can be divided by 2 ie if it's even\n",
    "        print(number)"
   ]
  },
  {
   "cell_type": "markdown",
   "id": "62c92f5c",
   "metadata": {},
   "source": [
    "## Create simple functions"
   ]
  },
  {
   "cell_type": "markdown",
   "id": "791fc144",
   "metadata": {},
   "source": [
    "### Create a function that prints the name but also prints if there's an issue"
   ]
  },
  {
   "cell_type": "code",
   "execution_count": null,
   "id": "0802f480",
   "metadata": {},
   "outputs": [
    {
     "name": "stdout",
     "output_type": "stream",
     "text": [
      "Stan\n",
      "You haven't put your name bro.\n",
      "I'm not really sure to understand what you mean. Can you check again?\n"
     ]
    }
   ],
   "source": [
    "# Create a function Hello\n",
    "def Hello(name : str) -> str:\n",
    "    if name != \"\" and isinstance(name, str): # Name has to be a string\n",
    "        return name\n",
    "    elif name == \"\" and isinstance(name, str):\n",
    "        return \"You haven't put your name bro.\"\n",
    "    else:\n",
    "        return \"I'm not really sure to understand what you mean. Can you check again?\"\n",
    "\n",
    "# Test with a name\n",
    "print(Hello(\"Stan\"))\n",
    "\n",
    "# Test with a null value\n",
    "print(Hello(''))\n",
    "\n",
    "# Test with a number\n",
    "print(Hello(4))"
   ]
  },
  {
   "cell_type": "markdown",
   "id": "bb307971",
   "metadata": {},
   "source": [
    "### Create a function to calculate the area of a circle"
   ]
  },
  {
   "cell_type": "code",
   "execution_count": null,
   "id": "0095477b",
   "metadata": {},
   "outputs": [
    {
     "name": "stdout",
     "output_type": "stream",
     "text": [
      "The area of my circle is 12.56\n"
     ]
    }
   ],
   "source": [
    "# Specify arguments for calculating the area of the circle\n",
    "r = 2\n",
    "\n",
    "# Create the function\n",
    "def calculate_area(r : float) -> float:\n",
    "    return 3.14 * r ** 2\n",
    "\n",
    "# Test the function\n",
    "print(f\"The area of my circle is {calculate_area(r)}\")"
   ]
  },
  {
   "cell_type": "markdown",
   "id": "f1038c86",
   "metadata": {},
   "source": [
    "## Handle lists and dictionaries"
   ]
  },
  {
   "cell_type": "markdown",
   "id": "4caf2920",
   "metadata": {},
   "source": [
    "### Add a name to a list"
   ]
  },
  {
   "cell_type": "code",
   "execution_count": null,
   "id": "e9c6d893",
   "metadata": {},
   "outputs": [
    {
     "name": "stdout",
     "output_type": "stream",
     "text": [
      "['Seoul', 'New York', 'Tokyo', 'Hanoi', 'Berlin', 'Milano', 'Lyon', 'Hong Kong']\n",
      "['Seoul', 'New York', 'Tokyo', 'Hanoi', 'Berlin', 'Milano', 'Lyon', 'Hong Kong', 'Barcelona']\n"
     ]
    }
   ],
   "source": [
    "# Take the list ListOfCitiesITravelledTo I've previously managed\n",
    "print(list_of_cities_I_travelled_to)\n",
    "\n",
    "# Add a new city\n",
    "new_city = 'Barcelona'\n",
    "\n",
    "# Add the new city to the list\n",
    "list_of_cities_I_travelled_to.append(new_city)\n",
    "\n",
    "# Print the result\n",
    "print(list_of_cities_I_travelled_to)\n"
   ]
  },
  {
   "cell_type": "markdown",
   "id": "a7fb1213",
   "metadata": {},
   "source": [
    "### Use a dictionary to store ages"
   ]
  },
  {
   "cell_type": "code",
   "execution_count": 57,
   "id": "ba3eb247",
   "metadata": {},
   "outputs": [
    {
     "name": "stdout",
     "output_type": "stream",
     "text": [
      "{'Thomas': 29, 'Edouard': 28, 'Alexandre': 28, 'Victor': 29, 'Lucas': 31}\n"
     ]
    }
   ],
   "source": [
    "# Create the dictionary\n",
    "my_friends_age = {\n",
    "    'Thomas' : 29,\n",
    "    'Edouard' : 28,\n",
    "    'Alexandre' : 28,\n",
    "    'Victor' : 29,\n",
    "    'Lucas' : 31\n",
    "}\n",
    "\n",
    "# Print the dictionary\n",
    "print(my_friends_age)"
   ]
  },
  {
   "cell_type": "markdown",
   "id": "a6195141",
   "metadata": {},
   "source": [
    "## Bonus: Funny function "
   ]
  },
  {
   "cell_type": "markdown",
   "id": "09f2dde2",
   "metadata": {},
   "source": [
    "### Ask a number to the user: he has to guess a number between 1 and 5"
   ]
  },
  {
   "cell_type": "code",
   "execution_count": 72,
   "id": "192721fb",
   "metadata": {},
   "outputs": [
    {
     "data": {
      "text/plain": [
       "'Wow you got it right!'"
      ]
     },
     "execution_count": 72,
     "metadata": {},
     "output_type": "execute_result"
    }
   ],
   "source": [
    "# Has to be imported to be used\n",
    "import random\n",
    "\n",
    "# Instantiate the random number\n",
    "number_to_guess = random.randint(1,5)\n",
    "#print(number_to_guess)\n",
    "\n",
    "# Create the function\n",
    "def guess_my_number(number : int) -> int:\n",
    "    if number == number_to_guess:\n",
    "        return 'Wow you got it right!'\n",
    "    else:\n",
    "        return 'Try again.'\n",
    "    \n",
    "# Test the function\n",
    "guess_my_number(3)"
   ]
  }
 ],
 "metadata": {
  "kernelspec": {
   "display_name": "Python 3",
   "language": "python",
   "name": "python3"
  },
  "language_info": {
   "codemirror_mode": {
    "name": "ipython",
    "version": 3
   },
   "file_extension": ".py",
   "mimetype": "text/x-python",
   "name": "python",
   "nbconvert_exporter": "python",
   "pygments_lexer": "ipython3",
   "version": "3.11.13"
  }
 },
 "nbformat": 4,
 "nbformat_minor": 5
}
